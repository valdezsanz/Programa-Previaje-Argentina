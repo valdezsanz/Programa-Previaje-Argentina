{
 "cells": [
  {
   "cell_type": "markdown",
   "id": "d3b1b640-2dd4-44be-98f6-d2389ea80fac",
   "metadata": {},
   "source": [
    "# Intoduccion"
   ]
  },
  {
   "cell_type": "markdown",
   "id": "6773a1ca-df3f-4f8c-886c-d6dd11f6f2bc",
   "metadata": {},
   "source": [
    "PreViaje es un programa de preventa turística que  reintegra el 50% del valor de los pasajes en una tarjeta de debito,Tiene como objetivo fomentar el turismo dentro del pais "
   ]
  },
  {
   "cell_type": "markdown",
   "id": "63cbfb7a-71fc-4397-a1b4-ea9e078153f1",
   "metadata": {},
   "source": [
    "Datos de la Subsecretaría de Promoción Turística y Nuevos Productos del Ministerio de Turismo y Deportes.A partir de registros administrativos de carga de comprobantes y gasto del crédito del programa.\n",
    "\n",
    "Incluye información de cantidad de prestadores inscriptos, viajes realizados, beneficiarios, comprobantes cargados y consumos para cada edición."
   ]
  },
  {
   "cell_type": "markdown",
   "id": "8608a916-f272-4654-ba66-02528224ca6d",
   "metadata": {},
   "source": [
    "# Objetivos "
   ]
  },
  {
   "cell_type": "markdown",
   "id": "cc5b7666-882e-4f3e-bb9b-9f1a870f0d30",
   "metadata": {},
   "source": [
    "Realizar un dashboard resumiendo la evolucion del programa durante sus tres ediciones"
   ]
  },
  {
   "cell_type": "markdown",
   "id": "9fb3761d-e867-4bcd-a618-cb75cdee4011",
   "metadata": {},
   "source": [
    "Mostrar los destinos turisticos mas elegidos"
   ]
  },
  {
   "cell_type": "markdown",
   "id": "6854bc9b-1789-43df-a208-d759872e70b6",
   "metadata": {},
   "source": [
    "Describir el rango de edad y genero de las personas que mas utilizaron el programa "
   ]
  },
  {
   "cell_type": "markdown",
   "id": "64dfb6f5-a9a7-4c6b-8dd1-a900246759e2",
   "metadata": {},
   "source": [
    "# Analisis"
   ]
  },
  {
   "cell_type": "markdown",
   "id": "9eadfc20-6a0b-48ed-b98b-5ee738f0aefc",
   "metadata": {},
   "source": [
    "## Importar librerias"
   ]
  },
  {
   "cell_type": "code",
   "execution_count": 148,
   "id": "fd20d6e2-a30a-4cb2-a72a-b921c5d84517",
   "metadata": {},
   "outputs": [],
   "source": [
    "import pandas as pd \n",
    "import numpy as np\n",
    "import matplotlib.pyplot as plt\n",
    "from matplotlib.dates import DateFormatter"
   ]
  },
  {
   "cell_type": "markdown",
   "id": "2e887fad-52f7-48aa-a73d-6db167cb1155",
   "metadata": {},
   "source": [
    "##Descripcion del dataset "
   ]
  },
  {
   "cell_type": "markdown",
   "id": "2fdfaae1-120b-42d0-aa5b-65ab64b2f45c",
   "metadata": {},
   "source": [
    "comprobantes_fecha.csv\n",
    "\n",
    "    Comprobantes y monto por CLAE a 6 dígitos y fecha de carga\n",
    "    \n",
    "    Cantidad de comprobantes y monto total en pesos por CLAE a 6 dígitos y fecha de carga\n",
    "\n",
    "\n",
    "gasto_credito.csv\n",
    "    \n",
    "    Consumo del crédito según operaciones y monto por día\n",
    "\n",
    "    Cantidad de operaciones y monto en pesos de los consumos realizados por gasto del crédito por día\n",
    "\n",
    "personas_beneficiarias.csv\n",
    "   \n",
    "    Personas beneficiarias por provincia de residencia, grupos de edad y género\n",
    "\n",
    "    Cantidad de personas beneficiarias del programa por provincia de residencia, grupo de edad y género\n",
    "\n",
    "\n",
    "prestadores_clae.csv\n",
    "   \n",
    "    Prestadores inscriptos por CLAE\n",
    "\n",
    "    Cantidad de prestadores inscriptos al programa y cantidad de establecimientos (para PV2 y PV3), por CLAE a 6 dígitos\n",
    "\n",
    "\n",
    "viajes_origen_destino_mes.csv\n",
    "\n",
    "    Viajes y viajeros por mes de inicio, provincia de origen y destino\n",
    "\n",
    "    Cantidad de viajes y viajeros por mes de inicio del viaje, provincia de origen y destino\n"
   ]
  },
  {
   "cell_type": "markdown",
   "id": "73983a8b-c61d-4e7f-afa4-ea4a6158a99f",
   "metadata": {},
   "source": [
    "## Importar los archivos  "
   ]
  },
  {
   "cell_type": "code",
   "execution_count": 6,
   "id": "d7562f99-aafb-45ae-b3fd-9c202a0c3c8c",
   "metadata": {},
   "outputs": [],
   "source": [
    "comprobantes=pd.read_csv('E:\\Ordenado\\DATA ANALISYS\\Data argentina\\previaje\\comprobantes_fecha.csv')"
   ]
  },
  {
   "cell_type": "code",
   "execution_count": 7,
   "id": "42a6f05e-5a2b-4ad4-950d-e2d31dbede7f",
   "metadata": {},
   "outputs": [],
   "source": [
    "gasto_credito=pd.read_csv('E:\\Ordenado\\DATA ANALISYS\\Data argentina\\previaje\\gasto_credito.csv')"
   ]
  },
  {
   "cell_type": "code",
   "execution_count": 8,
   "id": "84fef273-cddb-438f-a0ec-d0a5e2314294",
   "metadata": {},
   "outputs": [],
   "source": [
    "personas_beneficiarias=pd.read_csv('E:\\Ordenado\\DATA ANALISYS\\Data argentina\\previaje\\personas_beneficiarias.csv')"
   ]
  },
  {
   "cell_type": "code",
   "execution_count": 9,
   "id": "07ff4c21-3dd4-4c2d-95c8-e4424e960844",
   "metadata": {},
   "outputs": [],
   "source": [
    "prestadores_clae=pd.read_csv('E:\\Ordenado\\DATA ANALISYS\\Data argentina\\previaje\\prestadores_clae.csv')"
   ]
  },
  {
   "cell_type": "code",
   "execution_count": 12,
   "id": "d4aef43c-4809-432c-828a-10c496c63b30",
   "metadata": {},
   "outputs": [],
   "source": [
    "viajes_origen_destino_mes=pd.read_csv('E:\\Ordenado\\DATA ANALISYS\\Data argentina\\previaje\\\\viajes_origen_destino_mes.csv')"
   ]
  },
  {
   "cell_type": "markdown",
   "id": "85c21615-2ade-4944-9a5d-a56770824893",
   "metadata": {},
   "source": [
    "# Data Cleaning "
   ]
  },
  {
   "cell_type": "markdown",
   "id": "e456807b-da1f-4010-9046-3b654735ae03",
   "metadata": {
    "tags": []
   },
   "source": [
    "### comprobantes"
   ]
  },
  {
   "cell_type": "code",
   "execution_count": 23,
   "id": "32863ab0-b692-49f6-b363-e0deacedf5c1",
   "metadata": {},
   "outputs": [
    {
     "data": {
      "text/html": [
       "<div>\n",
       "<style scoped>\n",
       "    .dataframe tbody tr th:only-of-type {\n",
       "        vertical-align: middle;\n",
       "    }\n",
       "\n",
       "    .dataframe tbody tr th {\n",
       "        vertical-align: top;\n",
       "    }\n",
       "\n",
       "    .dataframe thead th {\n",
       "        text-align: right;\n",
       "    }\n",
       "</style>\n",
       "<table border=\"1\" class=\"dataframe\">\n",
       "  <thead>\n",
       "    <tr style=\"text-align: right;\">\n",
       "      <th></th>\n",
       "      <th>fecha_carga</th>\n",
       "      <th>comprobantes</th>\n",
       "      <th>monto</th>\n",
       "      <th>clae</th>\n",
       "      <th>clae6_desc</th>\n",
       "      <th>edicion</th>\n",
       "      <th>clae2</th>\n",
       "      <th>clae2_desc</th>\n",
       "      <th>clae3</th>\n",
       "      <th>clae3_desc</th>\n",
       "      <th>letra</th>\n",
       "      <th>letra_desc</th>\n",
       "    </tr>\n",
       "  </thead>\n",
       "  <tbody>\n",
       "    <tr>\n",
       "      <th>0</th>\n",
       "      <td>2020-10-08</td>\n",
       "      <td>130</td>\n",
       "      <td>3652753.17</td>\n",
       "      <td>511000</td>\n",
       "      <td>Servicio de transporte aéreo de pasajeros</td>\n",
       "      <td>previaje 1</td>\n",
       "      <td>51</td>\n",
       "      <td>Transporte aéreo</td>\n",
       "      <td>511</td>\n",
       "      <td>Servicio de transporte aéreo de pasajeros</td>\n",
       "      <td>H</td>\n",
       "      <td>SERVICIO DE TRANSPORTE Y ALMACENAMIENTO</td>\n",
       "    </tr>\n",
       "    <tr>\n",
       "      <th>1</th>\n",
       "      <td>2020-10-08</td>\n",
       "      <td>35</td>\n",
       "      <td>1627464.98</td>\n",
       "      <td>791100</td>\n",
       "      <td>Servicios minoristas de agencias de viajes</td>\n",
       "      <td>previaje 1</td>\n",
       "      <td>79</td>\n",
       "      <td>Agencias de viajes, servicios de reservas y ac...</td>\n",
       "      <td>791</td>\n",
       "      <td>Servicios de agencias de viaje y otras activid...</td>\n",
       "      <td>N</td>\n",
       "      <td>ACTIVIDADES ADMINISTRATIVAS Y SERVICIOS DE APOYO</td>\n",
       "    </tr>\n",
       "    <tr>\n",
       "      <th>2</th>\n",
       "      <td>2020-10-09</td>\n",
       "      <td>222</td>\n",
       "      <td>5757986.58</td>\n",
       "      <td>511000</td>\n",
       "      <td>Servicio de transporte aéreo de pasajeros</td>\n",
       "      <td>previaje 1</td>\n",
       "      <td>51</td>\n",
       "      <td>Transporte aéreo</td>\n",
       "      <td>511</td>\n",
       "      <td>Servicio de transporte aéreo de pasajeros</td>\n",
       "      <td>H</td>\n",
       "      <td>SERVICIO DE TRANSPORTE Y ALMACENAMIENTO</td>\n",
       "    </tr>\n",
       "    <tr>\n",
       "      <th>3</th>\n",
       "      <td>2020-10-09</td>\n",
       "      <td>3</td>\n",
       "      <td>121289.00</td>\n",
       "      <td>551022</td>\n",
       "      <td>Servicios de alojamiento en hoteles, hosterías...</td>\n",
       "      <td>previaje 1</td>\n",
       "      <td>55</td>\n",
       "      <td>Servicios de alojamiento</td>\n",
       "      <td>551</td>\n",
       "      <td>Servicios de alojamiento, excepto en camping</td>\n",
       "      <td>I</td>\n",
       "      <td>SERVICIOS DE ALOJAMIENTO Y SERVICIOS DE COMIDA</td>\n",
       "    </tr>\n",
       "    <tr>\n",
       "      <th>4</th>\n",
       "      <td>2020-10-09</td>\n",
       "      <td>4</td>\n",
       "      <td>186166.50</td>\n",
       "      <td>551023</td>\n",
       "      <td>Servicios de alojamiento en hoteles, hosterías...</td>\n",
       "      <td>previaje 1</td>\n",
       "      <td>55</td>\n",
       "      <td>Servicios de alojamiento</td>\n",
       "      <td>551</td>\n",
       "      <td>Servicios de alojamiento, excepto en camping</td>\n",
       "      <td>I</td>\n",
       "      <td>SERVICIOS DE ALOJAMIENTO Y SERVICIOS DE COMIDA</td>\n",
       "    </tr>\n",
       "  </tbody>\n",
       "</table>\n",
       "</div>"
      ],
      "text/plain": [
       "  fecha_carga  comprobantes       monto    clae  \\\n",
       "0  2020-10-08           130  3652753.17  511000   \n",
       "1  2020-10-08            35  1627464.98  791100   \n",
       "2  2020-10-09           222  5757986.58  511000   \n",
       "3  2020-10-09             3   121289.00  551022   \n",
       "4  2020-10-09             4   186166.50  551023   \n",
       "\n",
       "                                          clae6_desc     edicion  clae2  \\\n",
       "0          Servicio de transporte aéreo de pasajeros  previaje 1     51   \n",
       "1         Servicios minoristas de agencias de viajes  previaje 1     79   \n",
       "2          Servicio de transporte aéreo de pasajeros  previaje 1     51   \n",
       "3  Servicios de alojamiento en hoteles, hosterías...  previaje 1     55   \n",
       "4  Servicios de alojamiento en hoteles, hosterías...  previaje 1     55   \n",
       "\n",
       "                                          clae2_desc  clae3  \\\n",
       "0                                   Transporte aéreo    511   \n",
       "1  Agencias de viajes, servicios de reservas y ac...    791   \n",
       "2                                   Transporte aéreo    511   \n",
       "3                           Servicios de alojamiento    551   \n",
       "4                           Servicios de alojamiento    551   \n",
       "\n",
       "                                          clae3_desc letra  \\\n",
       "0          Servicio de transporte aéreo de pasajeros     H   \n",
       "1  Servicios de agencias de viaje y otras activid...     N   \n",
       "2          Servicio de transporte aéreo de pasajeros     H   \n",
       "3       Servicios de alojamiento, excepto en camping     I   \n",
       "4       Servicios de alojamiento, excepto en camping     I   \n",
       "\n",
       "                                         letra_desc  \n",
       "0           SERVICIO DE TRANSPORTE Y ALMACENAMIENTO  \n",
       "1  ACTIVIDADES ADMINISTRATIVAS Y SERVICIOS DE APOYO  \n",
       "2           SERVICIO DE TRANSPORTE Y ALMACENAMIENTO  \n",
       "3    SERVICIOS DE ALOJAMIENTO Y SERVICIOS DE COMIDA  \n",
       "4    SERVICIOS DE ALOJAMIENTO Y SERVICIOS DE COMIDA  "
      ]
     },
     "execution_count": 23,
     "metadata": {},
     "output_type": "execute_result"
    }
   ],
   "source": [
    "comprobantes.head()"
   ]
  },
  {
   "cell_type": "code",
   "execution_count": 22,
   "id": "38ef03ce-8e7a-4347-a294-df48b07363e9",
   "metadata": {},
   "outputs": [
    {
     "name": "stdout",
     "output_type": "stream",
     "text": [
      "<class 'pandas.core.frame.DataFrame'>\n",
      "RangeIndex: 4359 entries, 0 to 4358\n",
      "Data columns (total 12 columns):\n",
      " #   Column        Non-Null Count  Dtype  \n",
      "---  ------        --------------  -----  \n",
      " 0   fecha_carga   4359 non-null   object \n",
      " 1   comprobantes  4359 non-null   int64  \n",
      " 2   monto         4359 non-null   float64\n",
      " 3   clae          4359 non-null   int64  \n",
      " 4   clae6_desc    4359 non-null   object \n",
      " 5   edicion       4359 non-null   object \n",
      " 6   clae2         4359 non-null   int64  \n",
      " 7   clae2_desc    4359 non-null   object \n",
      " 8   clae3         4359 non-null   int64  \n",
      " 9   clae3_desc    4359 non-null   object \n",
      " 10  letra         4359 non-null   object \n",
      " 11  letra_desc    4359 non-null   object \n",
      "dtypes: float64(1), int64(4), object(7)\n",
      "memory usage: 408.8+ KB\n"
     ]
    }
   ],
   "source": [
    "comprobantes.info()"
   ]
  },
  {
   "cell_type": "code",
   "execution_count": 36,
   "id": "80e87e94-eadf-40e6-a10b-c9070acf03c2",
   "metadata": {},
   "outputs": [
    {
     "data": {
      "text/html": [
       "<div>\n",
       "<style scoped>\n",
       "    .dataframe tbody tr th:only-of-type {\n",
       "        vertical-align: middle;\n",
       "    }\n",
       "\n",
       "    .dataframe tbody tr th {\n",
       "        vertical-align: top;\n",
       "    }\n",
       "\n",
       "    .dataframe thead th {\n",
       "        text-align: right;\n",
       "    }\n",
       "</style>\n",
       "<table border=\"1\" class=\"dataframe\">\n",
       "  <thead>\n",
       "    <tr style=\"text-align: right;\">\n",
       "      <th></th>\n",
       "      <th>comprobantes</th>\n",
       "      <th>monto</th>\n",
       "      <th>clae</th>\n",
       "      <th>clae6_desc</th>\n",
       "      <th>edicion</th>\n",
       "      <th>clae2</th>\n",
       "      <th>clae2_desc</th>\n",
       "      <th>clae3</th>\n",
       "      <th>clae3_desc</th>\n",
       "      <th>letra</th>\n",
       "      <th>letra_desc</th>\n",
       "      <th>fecha</th>\n",
       "    </tr>\n",
       "  </thead>\n",
       "  <tbody>\n",
       "    <tr>\n",
       "      <th>0</th>\n",
       "      <td>130</td>\n",
       "      <td>3652753.17</td>\n",
       "      <td>511000</td>\n",
       "      <td>Servicio de transporte aéreo de pasajeros</td>\n",
       "      <td>previaje 1</td>\n",
       "      <td>51</td>\n",
       "      <td>Transporte aéreo</td>\n",
       "      <td>511</td>\n",
       "      <td>Servicio de transporte aéreo de pasajeros</td>\n",
       "      <td>H</td>\n",
       "      <td>SERVICIO DE TRANSPORTE Y ALMACENAMIENTO</td>\n",
       "      <td>2020-10-08</td>\n",
       "    </tr>\n",
       "    <tr>\n",
       "      <th>1</th>\n",
       "      <td>35</td>\n",
       "      <td>1627464.98</td>\n",
       "      <td>791100</td>\n",
       "      <td>Servicios minoristas de agencias de viajes</td>\n",
       "      <td>previaje 1</td>\n",
       "      <td>79</td>\n",
       "      <td>Agencias de viajes, servicios de reservas y ac...</td>\n",
       "      <td>791</td>\n",
       "      <td>Servicios de agencias de viaje y otras activid...</td>\n",
       "      <td>N</td>\n",
       "      <td>ACTIVIDADES ADMINISTRATIVAS Y SERVICIOS DE APOYO</td>\n",
       "      <td>2020-10-08</td>\n",
       "    </tr>\n",
       "    <tr>\n",
       "      <th>2</th>\n",
       "      <td>222</td>\n",
       "      <td>5757986.58</td>\n",
       "      <td>511000</td>\n",
       "      <td>Servicio de transporte aéreo de pasajeros</td>\n",
       "      <td>previaje 1</td>\n",
       "      <td>51</td>\n",
       "      <td>Transporte aéreo</td>\n",
       "      <td>511</td>\n",
       "      <td>Servicio de transporte aéreo de pasajeros</td>\n",
       "      <td>H</td>\n",
       "      <td>SERVICIO DE TRANSPORTE Y ALMACENAMIENTO</td>\n",
       "      <td>2020-10-09</td>\n",
       "    </tr>\n",
       "    <tr>\n",
       "      <th>3</th>\n",
       "      <td>3</td>\n",
       "      <td>121289.00</td>\n",
       "      <td>551022</td>\n",
       "      <td>Servicios de alojamiento en hoteles, hosterías...</td>\n",
       "      <td>previaje 1</td>\n",
       "      <td>55</td>\n",
       "      <td>Servicios de alojamiento</td>\n",
       "      <td>551</td>\n",
       "      <td>Servicios de alojamiento, excepto en camping</td>\n",
       "      <td>I</td>\n",
       "      <td>SERVICIOS DE ALOJAMIENTO Y SERVICIOS DE COMIDA</td>\n",
       "      <td>2020-10-09</td>\n",
       "    </tr>\n",
       "    <tr>\n",
       "      <th>4</th>\n",
       "      <td>4</td>\n",
       "      <td>186166.50</td>\n",
       "      <td>551023</td>\n",
       "      <td>Servicios de alojamiento en hoteles, hosterías...</td>\n",
       "      <td>previaje 1</td>\n",
       "      <td>55</td>\n",
       "      <td>Servicios de alojamiento</td>\n",
       "      <td>551</td>\n",
       "      <td>Servicios de alojamiento, excepto en camping</td>\n",
       "      <td>I</td>\n",
       "      <td>SERVICIOS DE ALOJAMIENTO Y SERVICIOS DE COMIDA</td>\n",
       "      <td>2020-10-09</td>\n",
       "    </tr>\n",
       "  </tbody>\n",
       "</table>\n",
       "</div>"
      ],
      "text/plain": [
       "   comprobantes       monto    clae  \\\n",
       "0           130  3652753.17  511000   \n",
       "1            35  1627464.98  791100   \n",
       "2           222  5757986.58  511000   \n",
       "3             3   121289.00  551022   \n",
       "4             4   186166.50  551023   \n",
       "\n",
       "                                          clae6_desc     edicion  clae2  \\\n",
       "0          Servicio de transporte aéreo de pasajeros  previaje 1     51   \n",
       "1         Servicios minoristas de agencias de viajes  previaje 1     79   \n",
       "2          Servicio de transporte aéreo de pasajeros  previaje 1     51   \n",
       "3  Servicios de alojamiento en hoteles, hosterías...  previaje 1     55   \n",
       "4  Servicios de alojamiento en hoteles, hosterías...  previaje 1     55   \n",
       "\n",
       "                                          clae2_desc  clae3  \\\n",
       "0                                   Transporte aéreo    511   \n",
       "1  Agencias de viajes, servicios de reservas y ac...    791   \n",
       "2                                   Transporte aéreo    511   \n",
       "3                           Servicios de alojamiento    551   \n",
       "4                           Servicios de alojamiento    551   \n",
       "\n",
       "                                          clae3_desc letra  \\\n",
       "0          Servicio de transporte aéreo de pasajeros     H   \n",
       "1  Servicios de agencias de viaje y otras activid...     N   \n",
       "2          Servicio de transporte aéreo de pasajeros     H   \n",
       "3       Servicios de alojamiento, excepto en camping     I   \n",
       "4       Servicios de alojamiento, excepto en camping     I   \n",
       "\n",
       "                                         letra_desc      fecha  \n",
       "0           SERVICIO DE TRANSPORTE Y ALMACENAMIENTO 2020-10-08  \n",
       "1  ACTIVIDADES ADMINISTRATIVAS Y SERVICIOS DE APOYO 2020-10-08  \n",
       "2           SERVICIO DE TRANSPORTE Y ALMACENAMIENTO 2020-10-09  \n",
       "3    SERVICIOS DE ALOJAMIENTO Y SERVICIOS DE COMIDA 2020-10-09  \n",
       "4    SERVICIOS DE ALOJAMIENTO Y SERVICIOS DE COMIDA 2020-10-09  "
      ]
     },
     "execution_count": 36,
     "metadata": {},
     "output_type": "execute_result"
    }
   ],
   "source": [
    "if comprobantes.columns.isin(['fecha_carga']).any(): #check si la columna exixste\n",
    "\n",
    "    # cambiar dtype a fecha :\n",
    "    comprobantes['fecha']=pd.to_datetime(comprobantes['fecha_carga'],format=\"%Y/%m/%d\")\n",
    "\n",
    "    #drop fecha_carga column:\n",
    "    comprobantes.drop(columns='fecha_carga',inplace=True)\n",
    "\n",
    "comprobantes.head()"
   ]
  },
  {
   "cell_type": "code",
   "execution_count": 37,
   "id": "978dbad5-6350-4cda-9e5d-dbad13e403bf",
   "metadata": {},
   "outputs": [
    {
     "data": {
      "text/plain": [
       "comprobantes    1193\n",
       "monto           4339\n",
       "clae              46\n",
       "clae6_desc        46\n",
       "edicion            3\n",
       "clae2             17\n",
       "clae2_desc        17\n",
       "clae3             23\n",
       "clae3_desc        23\n",
       "letra             10\n",
       "letra_desc        10\n",
       "fecha            215\n",
       "dtype: int64"
      ]
     },
     "execution_count": 37,
     "metadata": {},
     "output_type": "execute_result"
    }
   ],
   "source": [
    "comprobantes.nunique()"
   ]
  },
  {
   "cell_type": "markdown",
   "id": "c7eea41d-fbad-40ca-bb71-fc28a99a617f",
   "metadata": {},
   "source": [
    "-No hay valores nulos \n",
    "\n",
    "-No hay errores de tipeo, o categorias que significan lo mismo escritas de manera diferente.\n"
   ]
  },
  {
   "cell_type": "markdown",
   "id": "d09317cb-48eb-4e76-9227-b38b93159ef7",
   "metadata": {
    "tags": []
   },
   "source": [
    "### gasto_credito."
   ]
  },
  {
   "cell_type": "code",
   "execution_count": 42,
   "id": "2f866c6b-97be-42c3-b8de-0920270eaedb",
   "metadata": {},
   "outputs": [],
   "source": [
    "# cambiar dtype a fecha :\n",
    "gasto_credito['fecha']=pd.to_datetime(gasto_credito['fecha'],format=\"%Y/%m/%d\")\n"
   ]
  },
  {
   "cell_type": "code",
   "execution_count": 43,
   "id": "9eb81b5f-f216-4b32-96af-aac07e8cc12f",
   "metadata": {},
   "outputs": [
    {
     "data": {
      "text/html": [
       "<div>\n",
       "<style scoped>\n",
       "    .dataframe tbody tr th:only-of-type {\n",
       "        vertical-align: middle;\n",
       "    }\n",
       "\n",
       "    .dataframe tbody tr th {\n",
       "        vertical-align: top;\n",
       "    }\n",
       "\n",
       "    .dataframe thead th {\n",
       "        text-align: right;\n",
       "    }\n",
       "</style>\n",
       "<table border=\"1\" class=\"dataframe\">\n",
       "  <thead>\n",
       "    <tr style=\"text-align: right;\">\n",
       "      <th></th>\n",
       "      <th>fecha</th>\n",
       "      <th>operaciones</th>\n",
       "      <th>monto</th>\n",
       "    </tr>\n",
       "  </thead>\n",
       "  <tbody>\n",
       "    <tr>\n",
       "      <th>0</th>\n",
       "      <td>2021-01-01</td>\n",
       "      <td>1145</td>\n",
       "      <td>5233079.98</td>\n",
       "    </tr>\n",
       "    <tr>\n",
       "      <th>1</th>\n",
       "      <td>2021-01-02</td>\n",
       "      <td>2954</td>\n",
       "      <td>12113625.61</td>\n",
       "    </tr>\n",
       "    <tr>\n",
       "      <th>2</th>\n",
       "      <td>2021-01-03</td>\n",
       "      <td>4073</td>\n",
       "      <td>13373969.04</td>\n",
       "    </tr>\n",
       "    <tr>\n",
       "      <th>3</th>\n",
       "      <td>2021-01-04</td>\n",
       "      <td>5102</td>\n",
       "      <td>18387131.28</td>\n",
       "    </tr>\n",
       "    <tr>\n",
       "      <th>4</th>\n",
       "      <td>2021-01-05</td>\n",
       "      <td>7666</td>\n",
       "      <td>23800932.74</td>\n",
       "    </tr>\n",
       "  </tbody>\n",
       "</table>\n",
       "</div>"
      ],
      "text/plain": [
       "       fecha  operaciones        monto\n",
       "0 2021-01-01         1145   5233079.98\n",
       "1 2021-01-02         2954  12113625.61\n",
       "2 2021-01-03         4073  13373969.04\n",
       "3 2021-01-04         5102  18387131.28\n",
       "4 2021-01-05         7666  23800932.74"
      ]
     },
     "execution_count": 43,
     "metadata": {},
     "output_type": "execute_result"
    }
   ],
   "source": [
    "gasto_credito.head()"
   ]
  },
  {
   "cell_type": "markdown",
   "id": "596d8c1e-6a96-4f67-a346-847d9f30eca1",
   "metadata": {
    "tags": []
   },
   "source": [
    "### personas_beneficiarias"
   ]
  },
  {
   "cell_type": "code",
   "execution_count": 45,
   "id": "c2ec4203-fcf7-42aa-a04d-c9990a4f303c",
   "metadata": {},
   "outputs": [
    {
     "data": {
      "text/html": [
       "<div>\n",
       "<style scoped>\n",
       "    .dataframe tbody tr th:only-of-type {\n",
       "        vertical-align: middle;\n",
       "    }\n",
       "\n",
       "    .dataframe tbody tr th {\n",
       "        vertical-align: top;\n",
       "    }\n",
       "\n",
       "    .dataframe thead th {\n",
       "        text-align: right;\n",
       "    }\n",
       "</style>\n",
       "<table border=\"1\" class=\"dataframe\">\n",
       "  <thead>\n",
       "    <tr style=\"text-align: right;\">\n",
       "      <th></th>\n",
       "      <th>provincia</th>\n",
       "      <th>tramo_edad</th>\n",
       "      <th>genero</th>\n",
       "      <th>personas_beneficiarias</th>\n",
       "      <th>edicion</th>\n",
       "    </tr>\n",
       "  </thead>\n",
       "  <tbody>\n",
       "    <tr>\n",
       "      <th>0</th>\n",
       "      <td>Chaco</td>\n",
       "      <td>18 a 29</td>\n",
       "      <td>Femenino</td>\n",
       "      <td>215</td>\n",
       "      <td>previaje 1</td>\n",
       "    </tr>\n",
       "    <tr>\n",
       "      <th>1</th>\n",
       "      <td>Chaco</td>\n",
       "      <td>30 a 44 años</td>\n",
       "      <td>Femenino</td>\n",
       "      <td>478</td>\n",
       "      <td>previaje 1</td>\n",
       "    </tr>\n",
       "    <tr>\n",
       "      <th>2</th>\n",
       "      <td>Chaco</td>\n",
       "      <td>45 a 59 años</td>\n",
       "      <td>Femenino</td>\n",
       "      <td>238</td>\n",
       "      <td>previaje 1</td>\n",
       "    </tr>\n",
       "    <tr>\n",
       "      <th>3</th>\n",
       "      <td>Chaco</td>\n",
       "      <td>60 años y más</td>\n",
       "      <td>Femenino</td>\n",
       "      <td>103</td>\n",
       "      <td>previaje 1</td>\n",
       "    </tr>\n",
       "    <tr>\n",
       "      <th>4</th>\n",
       "      <td>Chaco</td>\n",
       "      <td>18 a 29</td>\n",
       "      <td>Masculino</td>\n",
       "      <td>179</td>\n",
       "      <td>previaje 1</td>\n",
       "    </tr>\n",
       "  </tbody>\n",
       "</table>\n",
       "</div>"
      ],
      "text/plain": [
       "  provincia     tramo_edad     genero  personas_beneficiarias     edicion\n",
       "0     Chaco        18 a 29   Femenino                     215  previaje 1\n",
       "1     Chaco   30 a 44 años   Femenino                     478  previaje 1\n",
       "2     Chaco   45 a 59 años   Femenino                     238  previaje 1\n",
       "3     Chaco  60 años y más   Femenino                     103  previaje 1\n",
       "4     Chaco        18 a 29  Masculino                     179  previaje 1"
      ]
     },
     "execution_count": 45,
     "metadata": {},
     "output_type": "execute_result"
    }
   ],
   "source": [
    "personas_beneficiarias.head()"
   ]
  },
  {
   "cell_type": "code",
   "execution_count": 46,
   "id": "31c9a539-9d8e-4974-96cb-f999aa192e8d",
   "metadata": {},
   "outputs": [
    {
     "name": "stdout",
     "output_type": "stream",
     "text": [
      "<class 'pandas.core.frame.DataFrame'>\n",
      "RangeIndex: 595 entries, 0 to 594\n",
      "Data columns (total 5 columns):\n",
      " #   Column                  Non-Null Count  Dtype \n",
      "---  ------                  --------------  ----- \n",
      " 0   provincia               595 non-null    object\n",
      " 1   tramo_edad              595 non-null    object\n",
      " 2   genero                  595 non-null    object\n",
      " 3   personas_beneficiarias  595 non-null    int64 \n",
      " 4   edicion                 595 non-null    object\n",
      "dtypes: int64(1), object(4)\n",
      "memory usage: 23.4+ KB\n"
     ]
    }
   ],
   "source": [
    "personas_beneficiarias.info()"
   ]
  },
  {
   "cell_type": "code",
   "execution_count": 49,
   "id": "375cff3f-b22f-47ac-babc-7c523d58c242",
   "metadata": {},
   "outputs": [
    {
     "data": {
      "text/plain": [
       "provincia                  24\n",
       "tramo_edad                  4\n",
       "genero                      3\n",
       "personas_beneficiarias    501\n",
       "edicion                     3\n",
       "dtype: int64"
      ]
     },
     "execution_count": 49,
     "metadata": {},
     "output_type": "execute_result"
    }
   ],
   "source": [
    "personas_beneficiarias.nunique()"
   ]
  },
  {
   "cell_type": "code",
   "execution_count": 55,
   "id": "19f14ec4-cbb4-463c-9a72-16b1db383dbc",
   "metadata": {},
   "outputs": [
    {
     "name": "stdout",
     "output_type": "stream",
     "text": [
      "['Femenino' 'Masculino' 'X']\n",
      "['18 a 29' '30 a 44 años' '45 a 59 años' '60 años y más']\n"
     ]
    }
   ],
   "source": [
    "print(personas_beneficiarias['genero'].unique())\n",
    "print(personas_beneficiarias['tramo_edad'].unique())\n"
   ]
  },
  {
   "cell_type": "markdown",
   "id": "5b7cb188-3699-40da-b0ef-5119a782e973",
   "metadata": {
    "tags": []
   },
   "source": [
    "### Prestadores CLAE"
   ]
  },
  {
   "cell_type": "code",
   "execution_count": 56,
   "id": "f83de5cd-c61b-4958-8ffb-134bfddc52dd",
   "metadata": {},
   "outputs": [
    {
     "data": {
      "text/html": [
       "<div>\n",
       "<style scoped>\n",
       "    .dataframe tbody tr th:only-of-type {\n",
       "        vertical-align: middle;\n",
       "    }\n",
       "\n",
       "    .dataframe tbody tr th {\n",
       "        vertical-align: top;\n",
       "    }\n",
       "\n",
       "    .dataframe thead th {\n",
       "        text-align: right;\n",
       "    }\n",
       "</style>\n",
       "<table border=\"1\" class=\"dataframe\">\n",
       "  <thead>\n",
       "    <tr style=\"text-align: right;\">\n",
       "      <th></th>\n",
       "      <th>clae</th>\n",
       "      <th>prestadores</th>\n",
       "      <th>edicion</th>\n",
       "      <th>establecimientos</th>\n",
       "      <th>clae6_desc</th>\n",
       "      <th>clae3</th>\n",
       "      <th>clae3_desc</th>\n",
       "      <th>clae2</th>\n",
       "      <th>clae2_desc</th>\n",
       "      <th>letra</th>\n",
       "      <th>letra_desc</th>\n",
       "    </tr>\n",
       "  </thead>\n",
       "  <tbody>\n",
       "    <tr>\n",
       "      <th>0</th>\n",
       "      <td>103012</td>\n",
       "      <td>9</td>\n",
       "      <td>previaje 1</td>\n",
       "      <td>s/d</td>\n",
       "      <td>Elaboración y envasado de dulces, mermeladas y...</td>\n",
       "      <td>103</td>\n",
       "      <td>Preparación de frutas, hortalizas y legumbres</td>\n",
       "      <td>10</td>\n",
       "      <td>Elaboración de productos alimenticios</td>\n",
       "      <td>C</td>\n",
       "      <td>INDUSTRIA MANUFACTURERA</td>\n",
       "    </tr>\n",
       "    <tr>\n",
       "      <th>1</th>\n",
       "      <td>105030</td>\n",
       "      <td>5</td>\n",
       "      <td>previaje 1</td>\n",
       "      <td>s/d</td>\n",
       "      <td>Elaboración industrial de helados</td>\n",
       "      <td>105</td>\n",
       "      <td>Elaboración de productos lácteos</td>\n",
       "      <td>10</td>\n",
       "      <td>Elaboración de productos alimenticios</td>\n",
       "      <td>C</td>\n",
       "      <td>INDUSTRIA MANUFACTURERA</td>\n",
       "    </tr>\n",
       "    <tr>\n",
       "      <th>2</th>\n",
       "      <td>107129</td>\n",
       "      <td>29</td>\n",
       "      <td>previaje 1</td>\n",
       "      <td>s/d</td>\n",
       "      <td>Elaboración de productos de panadería n.c.p. (...</td>\n",
       "      <td>107</td>\n",
       "      <td>Elaboración de productos alimenticios ncp</td>\n",
       "      <td>10</td>\n",
       "      <td>Elaboración de productos alimenticios</td>\n",
       "      <td>C</td>\n",
       "      <td>INDUSTRIA MANUFACTURERA</td>\n",
       "    </tr>\n",
       "    <tr>\n",
       "      <th>3</th>\n",
       "      <td>107301</td>\n",
       "      <td>34</td>\n",
       "      <td>previaje 1</td>\n",
       "      <td>s/d</td>\n",
       "      <td>Elaboración de cacao y chocolate</td>\n",
       "      <td>107</td>\n",
       "      <td>Elaboración de productos alimenticios ncp</td>\n",
       "      <td>10</td>\n",
       "      <td>Elaboración de productos alimenticios</td>\n",
       "      <td>C</td>\n",
       "      <td>INDUSTRIA MANUFACTURERA</td>\n",
       "    </tr>\n",
       "    <tr>\n",
       "      <th>4</th>\n",
       "      <td>107309</td>\n",
       "      <td>17</td>\n",
       "      <td>previaje 1</td>\n",
       "      <td>s/d</td>\n",
       "      <td>Elaboración de productos de confitería n.c.p. ...</td>\n",
       "      <td>107</td>\n",
       "      <td>Elaboración de productos alimenticios ncp</td>\n",
       "      <td>10</td>\n",
       "      <td>Elaboración de productos alimenticios</td>\n",
       "      <td>C</td>\n",
       "      <td>INDUSTRIA MANUFACTURERA</td>\n",
       "    </tr>\n",
       "  </tbody>\n",
       "</table>\n",
       "</div>"
      ],
      "text/plain": [
       "     clae  prestadores     edicion establecimientos  \\\n",
       "0  103012            9  previaje 1              s/d   \n",
       "1  105030            5  previaje 1              s/d   \n",
       "2  107129           29  previaje 1              s/d   \n",
       "3  107301           34  previaje 1              s/d   \n",
       "4  107309           17  previaje 1              s/d   \n",
       "\n",
       "                                          clae6_desc  clae3  \\\n",
       "0  Elaboración y envasado de dulces, mermeladas y...    103   \n",
       "1                  Elaboración industrial de helados    105   \n",
       "2  Elaboración de productos de panadería n.c.p. (...    107   \n",
       "3                   Elaboración de cacao y chocolate    107   \n",
       "4  Elaboración de productos de confitería n.c.p. ...    107   \n",
       "\n",
       "                                      clae3_desc  clae2  \\\n",
       "0  Preparación de frutas, hortalizas y legumbres     10   \n",
       "1               Elaboración de productos lácteos     10   \n",
       "2      Elaboración de productos alimenticios ncp     10   \n",
       "3      Elaboración de productos alimenticios ncp     10   \n",
       "4      Elaboración de productos alimenticios ncp     10   \n",
       "\n",
       "                              clae2_desc letra               letra_desc  \n",
       "0  Elaboración de productos alimenticios     C  INDUSTRIA MANUFACTURERA  \n",
       "1  Elaboración de productos alimenticios     C  INDUSTRIA MANUFACTURERA  \n",
       "2  Elaboración de productos alimenticios     C  INDUSTRIA MANUFACTURERA  \n",
       "3  Elaboración de productos alimenticios     C  INDUSTRIA MANUFACTURERA  \n",
       "4  Elaboración de productos alimenticios     C  INDUSTRIA MANUFACTURERA  "
      ]
     },
     "execution_count": 56,
     "metadata": {},
     "output_type": "execute_result"
    }
   ],
   "source": [
    "prestadores_clae.head()"
   ]
  },
  {
   "cell_type": "code",
   "execution_count": 57,
   "id": "e8c034d3-e10e-42ed-85ee-e78f3627b8fc",
   "metadata": {},
   "outputs": [
    {
     "name": "stdout",
     "output_type": "stream",
     "text": [
      "<class 'pandas.core.frame.DataFrame'>\n",
      "RangeIndex: 123 entries, 0 to 122\n",
      "Data columns (total 11 columns):\n",
      " #   Column            Non-Null Count  Dtype \n",
      "---  ------            --------------  ----- \n",
      " 0   clae              123 non-null    int64 \n",
      " 1   prestadores       123 non-null    int64 \n",
      " 2   edicion           123 non-null    object\n",
      " 3   establecimientos  123 non-null    object\n",
      " 4   clae6_desc        123 non-null    object\n",
      " 5   clae3             123 non-null    int64 \n",
      " 6   clae3_desc        123 non-null    object\n",
      " 7   clae2             123 non-null    int64 \n",
      " 8   clae2_desc        123 non-null    object\n",
      " 9   letra             123 non-null    object\n",
      " 10  letra_desc        123 non-null    object\n",
      "dtypes: int64(4), object(7)\n",
      "memory usage: 10.7+ KB\n"
     ]
    }
   ],
   "source": [
    "prestadores_clae.info()"
   ]
  },
  {
   "cell_type": "code",
   "execution_count": 58,
   "id": "73a8a3b7-c90a-4421-afc1-93a7ce0e8bc5",
   "metadata": {},
   "outputs": [
    {
     "data": {
      "text/plain": [
       "clae                65\n",
       "prestadores         72\n",
       "edicion              3\n",
       "establecimientos    49\n",
       "clae6_desc          65\n",
       "clae3               31\n",
       "clae3_desc          31\n",
       "clae2               21\n",
       "clae2_desc          21\n",
       "letra               10\n",
       "letra_desc          10\n",
       "dtype: int64"
      ]
     },
     "execution_count": 58,
     "metadata": {},
     "output_type": "execute_result"
    }
   ],
   "source": [
    "prestadores_clae.nunique()"
   ]
  },
  {
   "cell_type": "code",
   "execution_count": null,
   "id": "68724baa-00ee-4363-82ef-d25ae6dfd831",
   "metadata": {},
   "outputs": [],
   "source": []
  },
  {
   "cell_type": "markdown",
   "id": "9501a7b9-2122-4395-be78-3f5553e4e236",
   "metadata": {
    "tags": []
   },
   "source": [
    "### viajes_origen_destino_mes"
   ]
  },
  {
   "cell_type": "code",
   "execution_count": 62,
   "id": "57f20023-db41-4d12-a13b-7c474ea56636",
   "metadata": {},
   "outputs": [
    {
     "data": {
      "text/html": [
       "<div>\n",
       "<style scoped>\n",
       "    .dataframe tbody tr th:only-of-type {\n",
       "        vertical-align: middle;\n",
       "    }\n",
       "\n",
       "    .dataframe tbody tr th {\n",
       "        vertical-align: top;\n",
       "    }\n",
       "\n",
       "    .dataframe thead th {\n",
       "        text-align: right;\n",
       "    }\n",
       "</style>\n",
       "<table border=\"1\" class=\"dataframe\">\n",
       "  <thead>\n",
       "    <tr style=\"text-align: right;\">\n",
       "      <th></th>\n",
       "      <th>mes_inicio</th>\n",
       "      <th>provincia_origen</th>\n",
       "      <th>provincia_destino</th>\n",
       "      <th>viajes</th>\n",
       "      <th>viajeros</th>\n",
       "      <th>edicion</th>\n",
       "    </tr>\n",
       "  </thead>\n",
       "  <tbody>\n",
       "    <tr>\n",
       "      <th>0</th>\n",
       "      <td>2021-01-01</td>\n",
       "      <td>Buenos Aires</td>\n",
       "      <td>Buenos Aires</td>\n",
       "      <td>6920</td>\n",
       "      <td>22436</td>\n",
       "      <td>previaje 1</td>\n",
       "    </tr>\n",
       "    <tr>\n",
       "      <th>1</th>\n",
       "      <td>2021-01-01</td>\n",
       "      <td>Buenos Aires</td>\n",
       "      <td>Catamarca</td>\n",
       "      <td>24</td>\n",
       "      <td>56</td>\n",
       "      <td>previaje 1</td>\n",
       "    </tr>\n",
       "    <tr>\n",
       "      <th>2</th>\n",
       "      <td>2021-01-01</td>\n",
       "      <td>Buenos Aires</td>\n",
       "      <td>Chaco</td>\n",
       "      <td>15</td>\n",
       "      <td>27</td>\n",
       "      <td>previaje 1</td>\n",
       "    </tr>\n",
       "    <tr>\n",
       "      <th>3</th>\n",
       "      <td>2021-01-01</td>\n",
       "      <td>Buenos Aires</td>\n",
       "      <td>Chubut</td>\n",
       "      <td>446</td>\n",
       "      <td>1203</td>\n",
       "      <td>previaje 1</td>\n",
       "    </tr>\n",
       "    <tr>\n",
       "      <th>4</th>\n",
       "      <td>2021-01-01</td>\n",
       "      <td>Buenos Aires</td>\n",
       "      <td>Ciudad Autónoma de Buenos Aires</td>\n",
       "      <td>112</td>\n",
       "      <td>272</td>\n",
       "      <td>previaje 1</td>\n",
       "    </tr>\n",
       "  </tbody>\n",
       "</table>\n",
       "</div>"
      ],
      "text/plain": [
       "  mes_inicio provincia_origen                provincia_destino  viajes  \\\n",
       "0 2021-01-01     Buenos Aires                     Buenos Aires    6920   \n",
       "1 2021-01-01     Buenos Aires                        Catamarca      24   \n",
       "2 2021-01-01     Buenos Aires                            Chaco      15   \n",
       "3 2021-01-01     Buenos Aires                           Chubut     446   \n",
       "4 2021-01-01     Buenos Aires  Ciudad Autónoma de Buenos Aires     112   \n",
       "\n",
       "   viajeros     edicion  \n",
       "0     22436  previaje 1  \n",
       "1        56  previaje 1  \n",
       "2        27  previaje 1  \n",
       "3      1203  previaje 1  \n",
       "4       272  previaje 1  "
      ]
     },
     "execution_count": 62,
     "metadata": {},
     "output_type": "execute_result"
    }
   ],
   "source": [
    "\n",
    "# cambiar dtype a mes_inicio :\n",
    "viajes_origen_destino_mes['mes_inicio']=pd.to_datetime(viajes_origen_destino_mes['mes_inicio'],format=\"%Y/%m/%d\")\n",
    "viajes_origen_destino_mes.head()"
   ]
  },
  {
   "cell_type": "code",
   "execution_count": 63,
   "id": "55c6d19a-1b50-4ff1-a26e-b66cd0a8dd4c",
   "metadata": {},
   "outputs": [
    {
     "name": "stdout",
     "output_type": "stream",
     "text": [
      "<class 'pandas.core.frame.DataFrame'>\n",
      "RangeIndex: 7710 entries, 0 to 7709\n",
      "Data columns (total 6 columns):\n",
      " #   Column             Non-Null Count  Dtype         \n",
      "---  ------             --------------  -----         \n",
      " 0   mes_inicio         7710 non-null   datetime64[ns]\n",
      " 1   provincia_origen   7710 non-null   object        \n",
      " 2   provincia_destino  7710 non-null   object        \n",
      " 3   viajes             7710 non-null   int64         \n",
      " 4   viajeros           7710 non-null   int64         \n",
      " 5   edicion            7710 non-null   object        \n",
      "dtypes: datetime64[ns](1), int64(2), object(3)\n",
      "memory usage: 361.5+ KB\n"
     ]
    }
   ],
   "source": [
    "viajes_origen_destino_mes.info()"
   ]
  },
  {
   "cell_type": "code",
   "execution_count": 64,
   "id": "02c5a6e4-5835-470b-a54d-d3ef54c5118c",
   "metadata": {},
   "outputs": [
    {
     "data": {
      "text/plain": [
       "mes_inicio             24\n",
       "provincia_origen       24\n",
       "provincia_destino      24\n",
       "viajes               1046\n",
       "viajeros             1515\n",
       "edicion                 3\n",
       "dtype: int64"
      ]
     },
     "execution_count": 64,
     "metadata": {},
     "output_type": "execute_result"
    }
   ],
   "source": [
    "viajes_origen_destino_mes.nunique()"
   ]
  },
  {
   "cell_type": "markdown",
   "id": "25db44d4-fd11-4120-a13a-c90965e7f2f7",
   "metadata": {},
   "source": [
    "# Data Manipulation "
   ]
  },
  {
   "cell_type": "markdown",
   "id": "6d87f307-cf25-49dc-ac3e-c900f51d4881",
   "metadata": {},
   "source": [
    "## comprobantes y gasto_credito "
   ]
  },
  {
   "cell_type": "markdown",
   "id": "88b8a124-ba1a-44ae-871b-5eba774b5fd1",
   "metadata": {},
   "source": [
    "### monto por mes "
   ]
  },
  {
   "cell_type": "code",
   "execution_count": 82,
   "id": "1e89ef33-56b4-4d50-8584-1e0c56ea5288",
   "metadata": {},
   "outputs": [],
   "source": [
    "#Tabla pivot usando pd.grouper para agrupar mensualmente en la columna FECHA\n",
    "monto_comprobantes_mes=pd.pivot_table(comprobantes,\n",
    "                                      index=(pd.Grouper(key='fecha',freq='M')),\n",
    "                                      values='monto',\n",
    "                                      aggfunc='sum')\n",
    "monto_comprobantes_mes['monto_millones']=round((monto_comprobantes_mes['monto']/1000000),2)\n"
   ]
  },
  {
   "cell_type": "code",
   "execution_count": 83,
   "id": "ff8f0a3b-d0f2-400e-8a57-beaba60a1014",
   "metadata": {},
   "outputs": [],
   "source": [
    "#Tabla pivot usando pd.grouper para agrupar mensualmente en la columna FECHA\n",
    "gasto_credito_mes=pd.pivot_table(gasto_credito,\n",
    "                                      index=(pd.Grouper(key='fecha',freq='M')),\n",
    "                                      values='monto',\n",
    "                                      aggfunc='sum')\n",
    "gasto_credito_mes['monto_millones']=round((gasto_credito_mes['monto']/1000000),2)\n"
   ]
  },
  {
   "cell_type": "code",
   "execution_count": 107,
   "id": "f1b77f99-a1e7-48a4-923e-d1825035fd5f",
   "metadata": {},
   "outputs": [],
   "source": [
    "#Monto Combrobantes vs Gastado \n",
    "monto_comprobante_vs_gasto_mes=pd.concat([monto_comprobantes_mes['monto_millones'],\n",
    "                                            gasto_credito_mes['monto_millones']],\n",
    "                                           axis=1,\n",
    "                                          keys=['monto_comprobantes_millones',\n",
    "                                                'monto_gasto_millones'])\n"
   ]
  },
  {
   "cell_type": "markdown",
   "id": "ae303ea5-bf9a-44db-a2f0-c517a5627f4d",
   "metadata": {},
   "source": [
    "### plot montos por mes "
   ]
  },
  {
   "cell_type": "code",
   "execution_count": 193,
   "id": "e4c6c3a7-be19-430e-bcae-29561019eda0",
   "metadata": {},
   "outputs": [
    {
     "data": {
      "text/plain": [
       "[<matplotlib.lines.Line2D at 0x20a40b18ee0>]"
      ]
     },
     "execution_count": 193,
     "metadata": {},
     "output_type": "execute_result"
    },
    {
     "data": {
      "image/png": "[encoded data removed]",
      "text/plain": [
       "<Figure size 640x480 with 1 Axes>"
      ]
     },
     "metadata": {},
     "output_type": "display_data"
    }
   ],
   "source": [
    "plt.plot('monto_millones',data=gasto_credito_mes)"
   ]
  },
  {
   "cell_type": "markdown",
   "id": "62cd45da-034c-4bb3-9875-37f16e760e8c",
   "metadata": {
    "tags": []
   },
   "source": [
    "### Monto Total"
   ]
  },
  {
   "cell_type": "code",
   "execution_count": 121,
   "id": "f8595791-4e6f-484f-b7b6-ed4a486ec8b2",
   "metadata": {},
   "outputs": [],
   "source": [
    "monto_comprobante_vs_gasto_total=monto_comprobante_vs_gasto_mes.sum()"
   ]
  },
  {
   "cell_type": "code",
   "execution_count": 269,
   "id": "6bce9101-122d-4589-a810-aa272488fcd5",
   "metadata": {},
   "outputs": [
    {
     "name": "stdout",
     "output_type": "stream",
     "text": [
      "Monto de comprobantes emitidos (en millones): 134668.98\n",
      "credito utilizable(en millones):67334.49\n",
      "Gasto del credito en las tarjetas (en millones):55550.62\n",
      "Porcentaje del credito disponible utilizado:82.5\n",
      "Dinero no utilizado(en millones):11783.87\n",
      "Personas beneficiadas: 1879946\n",
      "Dinero no utilizado por personas(promedio): 6268.2\n"
     ]
    }
   ],
   "source": [
    "comprobantes_tot=monto_comprobante_vs_gasto_total[0]\n",
    "credito_utilizable_aprox=(comprobantes_tot/2)\n",
    "gasto_tot=monto_comprobante_vs_gasto_total[1]\n",
    "porc=(gasto_tot/credito_utilizable_aprox)*100\n",
    "resto=credito_utilizable_aprox-gasto_tot\n",
    "personas_tot=personas_beneficiarias['personas_beneficiarias'].sum()\n",
    "resto_prom=(resto*1000000)/personas_tot\n",
    "\n",
    "print(\n",
    "f\"Monto de comprobantes emitidos (en millones): {comprobantes_tot}\\n\\\n",
    "credito utilizable(en millones):{credito_utilizable_aprox}\\n\\\n",
    "Gasto del credito en las tarjetas (en millones):{gasto_tot}\\n\\\n",
    "Porcentaje del credito disponible utilizado:{round(porc,2)}\\n\\\n",
    "Dinero no utilizado(en millones):{round(resto,2)}\\n\\\n",
    "Personas beneficiadas: {personas_tot}\\n\\\n",
    "Dinero no utilizado por personas(promedio): {round(resto_prom,2)}\")\n"
   ]
  },
  {
   "cell_type": "markdown",
   "id": "2ee82fec-ad37-4b00-99b0-5ed3772fadba",
   "metadata": {},
   "source": [
    "### Monto por Edicion "
   ]
  },
  {
   "cell_type": "code",
   "execution_count": 162,
   "id": "f3395169-2419-40a6-bd53-f004b446e30c",
   "metadata": {},
   "outputs": [
    {
     "data": {
      "text/plain": [
       "<AxesSubplot:xlabel='edicion'>"
      ]
     },
     "execution_count": 162,
     "metadata": {},
     "output_type": "execute_result"
    },
    {
     "data": {
      "image/png": "[encoded data removed]",
      "text/plain": [
       "<Figure size 640x480 with 1 Axes>"
      ]
     },
     "metadata": {},
     "output_type": "display_data"
    }
   ],
   "source": [
    "monto_comprobantes_por_edicion=comprobantes[['monto','edicion']].groupby('edicion').sum()\n",
    "monto_comprobantes_por_edicion.plot(kind='bar')"
   ]
  },
  {
   "cell_type": "markdown",
   "id": "ccded00b-8711-491e-ae37-4fe6bba573b8",
   "metadata": {},
   "source": [
    "### Monto por tipo de servicio "
   ]
  },
  {
   "cell_type": "code",
   "execution_count": 177,
   "id": "3a340877-753a-41a8-8578-dbf1cf4a1e2a",
   "metadata": {},
   "outputs": [
    {
     "data": {
      "text/plain": [
       "<AxesSubplot:ylabel='clae2_desc'>"
      ]
     },
     "execution_count": 177,
     "metadata": {},
     "output_type": "execute_result"
    },
    {
     "data": {
      "image/png": "[encoded data removed]",
      "text/plain": [
       "<Figure size 640x480 with 1 Axes>"
      ]
     },
     "metadata": {},
     "output_type": "display_data"
    }
   ],
   "source": [
    "monto_comprobantes_por_servicio=comprobantes[['monto','clae2_desc']].groupby('clae2_desc').sum()\n",
    "monto_comprobantes_por_servicio.sort_values('monto',ascending=False).head().plot(kind='barh',)"
   ]
  },
  {
   "cell_type": "markdown",
   "id": "18d16181-919b-474e-ad57-1477f21845a1",
   "metadata": {
    "tags": []
   },
   "source": [
    "## personas_beneficiarias"
   ]
  },
  {
   "cell_type": "code",
   "execution_count": 194,
   "id": "8a82ebb9-c60c-4aeb-a392-a3d5041bd69e",
   "metadata": {},
   "outputs": [
    {
     "data": {
      "text/html": [
       "<div>\n",
       "<style scoped>\n",
       "    .dataframe tbody tr th:only-of-type {\n",
       "        vertical-align: middle;\n",
       "    }\n",
       "\n",
       "    .dataframe tbody tr th {\n",
       "        vertical-align: top;\n",
       "    }\n",
       "\n",
       "    .dataframe thead th {\n",
       "        text-align: right;\n",
       "    }\n",
       "</style>\n",
       "<table border=\"1\" class=\"dataframe\">\n",
       "  <thead>\n",
       "    <tr style=\"text-align: right;\">\n",
       "      <th></th>\n",
       "      <th>provincia</th>\n",
       "      <th>tramo_edad</th>\n",
       "      <th>genero</th>\n",
       "      <th>personas_beneficiarias</th>\n",
       "      <th>edicion</th>\n",
       "    </tr>\n",
       "  </thead>\n",
       "  <tbody>\n",
       "    <tr>\n",
       "      <th>0</th>\n",
       "      <td>Chaco</td>\n",
       "      <td>18 a 29</td>\n",
       "      <td>Femenino</td>\n",
       "      <td>215</td>\n",
       "      <td>previaje 1</td>\n",
       "    </tr>\n",
       "    <tr>\n",
       "      <th>1</th>\n",
       "      <td>Chaco</td>\n",
       "      <td>30 a 44 años</td>\n",
       "      <td>Femenino</td>\n",
       "      <td>478</td>\n",
       "      <td>previaje 1</td>\n",
       "    </tr>\n",
       "    <tr>\n",
       "      <th>2</th>\n",
       "      <td>Chaco</td>\n",
       "      <td>45 a 59 años</td>\n",
       "      <td>Femenino</td>\n",
       "      <td>238</td>\n",
       "      <td>previaje 1</td>\n",
       "    </tr>\n",
       "    <tr>\n",
       "      <th>3</th>\n",
       "      <td>Chaco</td>\n",
       "      <td>60 años y más</td>\n",
       "      <td>Femenino</td>\n",
       "      <td>103</td>\n",
       "      <td>previaje 1</td>\n",
       "    </tr>\n",
       "    <tr>\n",
       "      <th>4</th>\n",
       "      <td>Chaco</td>\n",
       "      <td>18 a 29</td>\n",
       "      <td>Masculino</td>\n",
       "      <td>179</td>\n",
       "      <td>previaje 1</td>\n",
       "    </tr>\n",
       "    <tr>\n",
       "      <th>...</th>\n",
       "      <td>...</td>\n",
       "      <td>...</td>\n",
       "      <td>...</td>\n",
       "      <td>...</td>\n",
       "      <td>...</td>\n",
       "    </tr>\n",
       "    <tr>\n",
       "      <th>590</th>\n",
       "      <td>Tucumán</td>\n",
       "      <td>18 a 29</td>\n",
       "      <td>Masculino</td>\n",
       "      <td>941</td>\n",
       "      <td>previaje 3</td>\n",
       "    </tr>\n",
       "    <tr>\n",
       "      <th>591</th>\n",
       "      <td>Tucumán</td>\n",
       "      <td>30 a 44 años</td>\n",
       "      <td>Masculino</td>\n",
       "      <td>1658</td>\n",
       "      <td>previaje 3</td>\n",
       "    </tr>\n",
       "    <tr>\n",
       "      <th>592</th>\n",
       "      <td>Tucumán</td>\n",
       "      <td>45 a 59 años</td>\n",
       "      <td>Masculino</td>\n",
       "      <td>923</td>\n",
       "      <td>previaje 3</td>\n",
       "    </tr>\n",
       "    <tr>\n",
       "      <th>593</th>\n",
       "      <td>Tucumán</td>\n",
       "      <td>60 años y más</td>\n",
       "      <td>Masculino</td>\n",
       "      <td>650</td>\n",
       "      <td>previaje 3</td>\n",
       "    </tr>\n",
       "    <tr>\n",
       "      <th>594</th>\n",
       "      <td>Tucumán</td>\n",
       "      <td>18 a 29</td>\n",
       "      <td>X</td>\n",
       "      <td>4</td>\n",
       "      <td>previaje 3</td>\n",
       "    </tr>\n",
       "  </tbody>\n",
       "</table>\n",
       "<p>595 rows × 5 columns</p>\n",
       "</div>"
      ],
      "text/plain": [
       "    provincia     tramo_edad     genero  personas_beneficiarias     edicion\n",
       "0       Chaco        18 a 29   Femenino                     215  previaje 1\n",
       "1       Chaco   30 a 44 años   Femenino                     478  previaje 1\n",
       "2       Chaco   45 a 59 años   Femenino                     238  previaje 1\n",
       "3       Chaco  60 años y más   Femenino                     103  previaje 1\n",
       "4       Chaco        18 a 29  Masculino                     179  previaje 1\n",
       "..        ...            ...        ...                     ...         ...\n",
       "590   Tucumán        18 a 29  Masculino                     941  previaje 3\n",
       "591   Tucumán   30 a 44 años  Masculino                    1658  previaje 3\n",
       "592   Tucumán   45 a 59 años  Masculino                     923  previaje 3\n",
       "593   Tucumán  60 años y más  Masculino                     650  previaje 3\n",
       "594   Tucumán        18 a 29          X                       4  previaje 3\n",
       "\n",
       "[595 rows x 5 columns]"
      ]
     },
     "execution_count": 194,
     "metadata": {},
     "output_type": "execute_result"
    }
   ],
   "source": [
    "personas_beneficiarias"
   ]
  },
  {
   "cell_type": "markdown",
   "id": "791a24aa-166f-4da8-811d-1e8ff8d1cc18",
   "metadata": {
    "tags": []
   },
   "source": [
    "### Beneficiarios por Edad"
   ]
  },
  {
   "cell_type": "code",
   "execution_count": 197,
   "id": "8bfe533b-1960-4b4f-8dcc-ef1d6c02fd8a",
   "metadata": {},
   "outputs": [],
   "source": [
    "ben_por_edad=personas_beneficiarias.pivot_table(index='tramo_edad',\n",
    "                                               values='personas_beneficiarias')"
   ]
  },
  {
   "cell_type": "code",
   "execution_count": 199,
   "id": "26bcb3f6-5c26-486d-8288-b7d1fdc9f748",
   "metadata": {},
   "outputs": [
    {
     "data": {
      "text/plain": [
       "<AxesSubplot:xlabel='tramo_edad'>"
      ]
     },
     "execution_count": 199,
     "metadata": {},
     "output_type": "execute_result"
    },
    {
     "data": {
      "image/png": "[encoded data removed]",
      "text/plain": [
       "<Figure size 640x480 with 1 Axes>"
      ]
     },
     "metadata": {},
     "output_type": "display_data"
    }
   ],
   "source": [
    "ben_por_edad.plot(kind='bar')"
   ]
  },
  {
   "cell_type": "markdown",
   "id": "ba0958ce-0107-4399-9789-16de44c51d95",
   "metadata": {},
   "source": [
    "### Beneficiarios por Genero"
   ]
  },
  {
   "cell_type": "code",
   "execution_count": 200,
   "id": "47ec70d9-07eb-4de9-82fb-08a38db8b980",
   "metadata": {},
   "outputs": [],
   "source": [
    "ben_por_genero=personas_beneficiarias.pivot_table(index='genero',\n",
    "                                               values='personas_beneficiarias')"
   ]
  },
  {
   "cell_type": "code",
   "execution_count": 201,
   "id": "89e0a4e6-7735-45e2-af25-c4386823d810",
   "metadata": {},
   "outputs": [
    {
     "data": {
      "text/plain": [
       "<AxesSubplot:xlabel='genero'>"
      ]
     },
     "execution_count": 201,
     "metadata": {},
     "output_type": "execute_result"
    },
    {
     "data": {
      "image/png": "[encoded data removed]",
      "text/plain": [
       "<Figure size 640x480 with 1 Axes>"
      ]
     },
     "metadata": {},
     "output_type": "display_data"
    }
   ],
   "source": [
    "ben_por_genero.plot(kind='bar')"
   ]
  },
  {
   "cell_type": "markdown",
   "id": "59bd3ce5-2ad2-4fd5-a01c-04eb21f59eaf",
   "metadata": {},
   "source": [
    "### Beneficiarios por edicion "
   ]
  },
  {
   "cell_type": "code",
   "execution_count": 202,
   "id": "e4f64f5c-9d42-4ebd-b197-fb837e5191b9",
   "metadata": {},
   "outputs": [],
   "source": [
    "ben_por_edicion=personas_beneficiarias.pivot_table(index='edicion',\n",
    "                                               values='personas_beneficiarias')"
   ]
  },
  {
   "cell_type": "code",
   "execution_count": 203,
   "id": "2cb8d138-d118-4c2b-9cbe-253a879155cf",
   "metadata": {},
   "outputs": [
    {
     "data": {
      "text/plain": [
       "<AxesSubplot:xlabel='edicion'>"
      ]
     },
     "execution_count": 203,
     "metadata": {},
     "output_type": "execute_result"
    },
    {
     "data": {
      "image/png": "[encoded data removed]",
      "text/plain": [
       "<Figure size 640x480 with 1 Axes>"
      ]
     },
     "metadata": {},
     "output_type": "display_data"
    }
   ],
   "source": [
    "ben_por_edicion.plot(kind='bar')"
   ]
  },
  {
   "cell_type": "markdown",
   "id": "9a6a68ee-45cb-40c6-aa8b-84a8b845c622",
   "metadata": {},
   "source": [
    "### Beneficiarios por provincia"
   ]
  },
  {
   "cell_type": "code",
   "execution_count": 217,
   "id": "c738cd80-9870-49fb-8b9f-9779acef8aaa",
   "metadata": {},
   "outputs": [],
   "source": [
    "ben_por_provincia=personas_beneficiarias.pivot_table(index='provincia',\n",
    "                                               values='personas_beneficiarias')\\\n",
    "                                        .sort_values('personas_beneficiarias',ascending=False)\\\n",
    "                                        .head()"
   ]
  },
  {
   "cell_type": "code",
   "execution_count": 218,
   "id": "9d52a62e-c1bc-4964-9f50-b3d575528e23",
   "metadata": {},
   "outputs": [
    {
     "data": {
      "text/plain": [
       "<AxesSubplot:xlabel='provincia'>"
      ]
     },
     "execution_count": 218,
     "metadata": {},
     "output_type": "execute_result"
    },
    {
     "data": {
      "image/png": "[encoded data removed]",
      "text/plain": [
       "<Figure size 640x480 with 1 Axes>"
      ]
     },
     "metadata": {},
     "output_type": "display_data"
    }
   ],
   "source": [
    "ben_por_provincia.plot(kind='bar')"
   ]
  },
  {
   "cell_type": "markdown",
   "id": "3f1ca2cd-3a13-4fc7-8ba2-3b942ce40b3d",
   "metadata": {},
   "source": [
    "## Prestadores CLAE"
   ]
  },
  {
   "cell_type": "code",
   "execution_count": 220,
   "id": "0b7828d8-a35f-44d7-93cc-e13ad5351665",
   "metadata": {},
   "outputs": [
    {
     "data": {
      "text/html": [
       "<div>\n",
       "<style scoped>\n",
       "    .dataframe tbody tr th:only-of-type {\n",
       "        vertical-align: middle;\n",
       "    }\n",
       "\n",
       "    .dataframe tbody tr th {\n",
       "        vertical-align: top;\n",
       "    }\n",
       "\n",
       "    .dataframe thead th {\n",
       "        text-align: right;\n",
       "    }\n",
       "</style>\n",
       "<table border=\"1\" class=\"dataframe\">\n",
       "  <thead>\n",
       "    <tr style=\"text-align: right;\">\n",
       "      <th></th>\n",
       "      <th>clae</th>\n",
       "      <th>prestadores</th>\n",
       "      <th>edicion</th>\n",
       "      <th>establecimientos</th>\n",
       "      <th>clae6_desc</th>\n",
       "      <th>clae3</th>\n",
       "      <th>clae3_desc</th>\n",
       "      <th>clae2</th>\n",
       "      <th>clae2_desc</th>\n",
       "      <th>letra</th>\n",
       "      <th>letra_desc</th>\n",
       "    </tr>\n",
       "  </thead>\n",
       "  <tbody>\n",
       "    <tr>\n",
       "      <th>0</th>\n",
       "      <td>103012</td>\n",
       "      <td>9</td>\n",
       "      <td>previaje 1</td>\n",
       "      <td>s/d</td>\n",
       "      <td>Elaboración y envasado de dulces, mermeladas y...</td>\n",
       "      <td>103</td>\n",
       "      <td>Preparación de frutas, hortalizas y legumbres</td>\n",
       "      <td>10</td>\n",
       "      <td>Elaboración de productos alimenticios</td>\n",
       "      <td>C</td>\n",
       "      <td>INDUSTRIA MANUFACTURERA</td>\n",
       "    </tr>\n",
       "    <tr>\n",
       "      <th>1</th>\n",
       "      <td>105030</td>\n",
       "      <td>5</td>\n",
       "      <td>previaje 1</td>\n",
       "      <td>s/d</td>\n",
       "      <td>Elaboración industrial de helados</td>\n",
       "      <td>105</td>\n",
       "      <td>Elaboración de productos lácteos</td>\n",
       "      <td>10</td>\n",
       "      <td>Elaboración de productos alimenticios</td>\n",
       "      <td>C</td>\n",
       "      <td>INDUSTRIA MANUFACTURERA</td>\n",
       "    </tr>\n",
       "    <tr>\n",
       "      <th>2</th>\n",
       "      <td>107129</td>\n",
       "      <td>29</td>\n",
       "      <td>previaje 1</td>\n",
       "      <td>s/d</td>\n",
       "      <td>Elaboración de productos de panadería n.c.p. (...</td>\n",
       "      <td>107</td>\n",
       "      <td>Elaboración de productos alimenticios ncp</td>\n",
       "      <td>10</td>\n",
       "      <td>Elaboración de productos alimenticios</td>\n",
       "      <td>C</td>\n",
       "      <td>INDUSTRIA MANUFACTURERA</td>\n",
       "    </tr>\n",
       "    <tr>\n",
       "      <th>3</th>\n",
       "      <td>107301</td>\n",
       "      <td>34</td>\n",
       "      <td>previaje 1</td>\n",
       "      <td>s/d</td>\n",
       "      <td>Elaboración de cacao y chocolate</td>\n",
       "      <td>107</td>\n",
       "      <td>Elaboración de productos alimenticios ncp</td>\n",
       "      <td>10</td>\n",
       "      <td>Elaboración de productos alimenticios</td>\n",
       "      <td>C</td>\n",
       "      <td>INDUSTRIA MANUFACTURERA</td>\n",
       "    </tr>\n",
       "    <tr>\n",
       "      <th>4</th>\n",
       "      <td>107309</td>\n",
       "      <td>17</td>\n",
       "      <td>previaje 1</td>\n",
       "      <td>s/d</td>\n",
       "      <td>Elaboración de productos de confitería n.c.p. ...</td>\n",
       "      <td>107</td>\n",
       "      <td>Elaboración de productos alimenticios ncp</td>\n",
       "      <td>10</td>\n",
       "      <td>Elaboración de productos alimenticios</td>\n",
       "      <td>C</td>\n",
       "      <td>INDUSTRIA MANUFACTURERA</td>\n",
       "    </tr>\n",
       "  </tbody>\n",
       "</table>\n",
       "</div>"
      ],
      "text/plain": [
       "     clae  prestadores     edicion establecimientos  \\\n",
       "0  103012            9  previaje 1              s/d   \n",
       "1  105030            5  previaje 1              s/d   \n",
       "2  107129           29  previaje 1              s/d   \n",
       "3  107301           34  previaje 1              s/d   \n",
       "4  107309           17  previaje 1              s/d   \n",
       "\n",
       "                                          clae6_desc  clae3  \\\n",
       "0  Elaboración y envasado de dulces, mermeladas y...    103   \n",
       "1                  Elaboración industrial de helados    105   \n",
       "2  Elaboración de productos de panadería n.c.p. (...    107   \n",
       "3                   Elaboración de cacao y chocolate    107   \n",
       "4  Elaboración de productos de confitería n.c.p. ...    107   \n",
       "\n",
       "                                      clae3_desc  clae2  \\\n",
       "0  Preparación de frutas, hortalizas y legumbres     10   \n",
       "1               Elaboración de productos lácteos     10   \n",
       "2      Elaboración de productos alimenticios ncp     10   \n",
       "3      Elaboración de productos alimenticios ncp     10   \n",
       "4      Elaboración de productos alimenticios ncp     10   \n",
       "\n",
       "                              clae2_desc letra               letra_desc  \n",
       "0  Elaboración de productos alimenticios     C  INDUSTRIA MANUFACTURERA  \n",
       "1  Elaboración de productos alimenticios     C  INDUSTRIA MANUFACTURERA  \n",
       "2  Elaboración de productos alimenticios     C  INDUSTRIA MANUFACTURERA  \n",
       "3  Elaboración de productos alimenticios     C  INDUSTRIA MANUFACTURERA  \n",
       "4  Elaboración de productos alimenticios     C  INDUSTRIA MANUFACTURERA  "
      ]
     },
     "execution_count": 220,
     "metadata": {},
     "output_type": "execute_result"
    }
   ],
   "source": [
    "prestadores_clae.head()"
   ]
  },
  {
   "cell_type": "markdown",
   "id": "e1baf39a-a514-4c27-9095-7386a94aae1a",
   "metadata": {},
   "source": [
    "### Prestadores por Categoria "
   ]
  },
  {
   "cell_type": "code",
   "execution_count": 229,
   "id": "a8091eaf-07d4-44b1-bb5f-9ac327178921",
   "metadata": {},
   "outputs": [],
   "source": [
    "prestadores_por_cat=prestadores_clae[['prestadores','clae3_desc']].groupby('clae3_desc')\\\n",
    "                                                                    .sum()\\\n",
    "                                                                    .sort_values('prestadores',ascending=False)"
   ]
  },
  {
   "cell_type": "code",
   "execution_count": 230,
   "id": "05b8559c-beab-43a9-a51d-2325322ad2ef",
   "metadata": {},
   "outputs": [
    {
     "data": {
      "text/html": [
       "<div>\n",
       "<style scoped>\n",
       "    .dataframe tbody tr th:only-of-type {\n",
       "        vertical-align: middle;\n",
       "    }\n",
       "\n",
       "    .dataframe tbody tr th {\n",
       "        vertical-align: top;\n",
       "    }\n",
       "\n",
       "    .dataframe thead th {\n",
       "        text-align: right;\n",
       "    }\n",
       "</style>\n",
       "<table border=\"1\" class=\"dataframe\">\n",
       "  <thead>\n",
       "    <tr style=\"text-align: right;\">\n",
       "      <th></th>\n",
       "      <th>prestadores</th>\n",
       "    </tr>\n",
       "    <tr>\n",
       "      <th>clae3_desc</th>\n",
       "      <th></th>\n",
       "    </tr>\n",
       "  </thead>\n",
       "  <tbody>\n",
       "    <tr>\n",
       "      <th>Servicios de alojamiento, excepto en camping</th>\n",
       "      <td>20795</td>\n",
       "    </tr>\n",
       "    <tr>\n",
       "      <th>Servicios de agencias de viaje y otras actividades complementarias de apoyo turístico</th>\n",
       "      <td>12659</td>\n",
       "    </tr>\n",
       "    <tr>\n",
       "      <th>Servicio de transporte automotor</th>\n",
       "      <td>1372</td>\n",
       "    </tr>\n",
       "    <tr>\n",
       "      <th>Servicios de expendio de comidas y bebidas</th>\n",
       "      <td>1126</td>\n",
       "    </tr>\n",
       "    <tr>\n",
       "      <th>Alquiler de vehículos automotores y equipo de transporte sin conductor ni operarios</th>\n",
       "      <td>851</td>\n",
       "    </tr>\n",
       "  </tbody>\n",
       "</table>\n",
       "</div>"
      ],
      "text/plain": [
       "                                                    prestadores\n",
       "clae3_desc                                                     \n",
       "Servicios de alojamiento, excepto en camping              20795\n",
       "Servicios de agencias de viaje y otras activida...        12659\n",
       "Servicio de transporte automotor                           1372\n",
       "Servicios de expendio de comidas y bebidas                 1126\n",
       "Alquiler de vehículos automotores y equipo de t...          851"
      ]
     },
     "execution_count": 230,
     "metadata": {},
     "output_type": "execute_result"
    }
   ],
   "source": [
    "prestadores_por_cat.head()"
   ]
  },
  {
   "cell_type": "markdown",
   "id": "e46729f4-e90e-405f-85ab-1ee45ca2a3ae",
   "metadata": {
    "tags": []
   },
   "source": [
    "### Prestadores por Edicion "
   ]
  },
  {
   "cell_type": "code",
   "execution_count": 232,
   "id": "045f74f9-409d-49e0-aae5-fde6145b6462",
   "metadata": {},
   "outputs": [],
   "source": [
    "prestadores_por_ed=prestadores_clae[['prestadores','edicion']].groupby('edicion')\\\n",
    "                                                                    .sum()\\\n",
    "                                                                    .sort_values('prestadores',ascending=False)"
   ]
  },
  {
   "cell_type": "code",
   "execution_count": 235,
   "id": "59b9573e-67ee-41c6-b4bc-2e1f0b7823a3",
   "metadata": {},
   "outputs": [
    {
     "data": {
      "text/html": [
       "<div>\n",
       "<style scoped>\n",
       "    .dataframe tbody tr th:only-of-type {\n",
       "        vertical-align: middle;\n",
       "    }\n",
       "\n",
       "    .dataframe tbody tr th {\n",
       "        vertical-align: top;\n",
       "    }\n",
       "\n",
       "    .dataframe thead th {\n",
       "        text-align: right;\n",
       "    }\n",
       "</style>\n",
       "<table border=\"1\" class=\"dataframe\">\n",
       "  <thead>\n",
       "    <tr style=\"text-align: right;\">\n",
       "      <th></th>\n",
       "      <th>prestadores</th>\n",
       "    </tr>\n",
       "    <tr>\n",
       "      <th>edicion</th>\n",
       "      <th></th>\n",
       "    </tr>\n",
       "  </thead>\n",
       "  <tbody>\n",
       "    <tr>\n",
       "      <th>previaje 2</th>\n",
       "      <td>13147</td>\n",
       "    </tr>\n",
       "    <tr>\n",
       "      <th>previaje 1</th>\n",
       "      <td>12932</td>\n",
       "    </tr>\n",
       "    <tr>\n",
       "      <th>previaje 3</th>\n",
       "      <td>12240</td>\n",
       "    </tr>\n",
       "  </tbody>\n",
       "</table>\n",
       "</div>"
      ],
      "text/plain": [
       "            prestadores\n",
       "edicion                \n",
       "previaje 2        13147\n",
       "previaje 1        12932\n",
       "previaje 3        12240"
      ]
     },
     "execution_count": 235,
     "metadata": {},
     "output_type": "execute_result"
    }
   ],
   "source": [
    "prestadores_por_ed.head()"
   ]
  },
  {
   "cell_type": "markdown",
   "id": "0cb8988b-73d9-4f8f-8c49-b610298cce89",
   "metadata": {},
   "source": [
    "## viajes origen y destino "
   ]
  },
  {
   "cell_type": "markdown",
   "id": "20531108-d95d-4b5a-8f07-c449fd0f6be1",
   "metadata": {},
   "source": [
    "### Destinos mas populares"
   ]
  },
  {
   "cell_type": "code",
   "execution_count": 240,
   "id": "bfc00175-6637-486a-ab49-4af8a434fec7",
   "metadata": {},
   "outputs": [
    {
     "data": {
      "text/html": [
       "<div>\n",
       "<style scoped>\n",
       "    .dataframe tbody tr th:only-of-type {\n",
       "        vertical-align: middle;\n",
       "    }\n",
       "\n",
       "    .dataframe tbody tr th {\n",
       "        vertical-align: top;\n",
       "    }\n",
       "\n",
       "    .dataframe thead th {\n",
       "        text-align: right;\n",
       "    }\n",
       "</style>\n",
       "<table border=\"1\" class=\"dataframe\">\n",
       "  <thead>\n",
       "    <tr style=\"text-align: right;\">\n",
       "      <th></th>\n",
       "      <th>viajeros</th>\n",
       "    </tr>\n",
       "    <tr>\n",
       "      <th>provincia_destino</th>\n",
       "      <th></th>\n",
       "    </tr>\n",
       "  </thead>\n",
       "  <tbody>\n",
       "    <tr>\n",
       "      <th>Buenos Aires</th>\n",
       "      <td>1069949</td>\n",
       "    </tr>\n",
       "    <tr>\n",
       "      <th>Río Negro</th>\n",
       "      <td>825770</td>\n",
       "    </tr>\n",
       "    <tr>\n",
       "      <th>Córdoba</th>\n",
       "      <td>487968</td>\n",
       "    </tr>\n",
       "    <tr>\n",
       "      <th>Mendoza</th>\n",
       "      <td>391625</td>\n",
       "    </tr>\n",
       "    <tr>\n",
       "      <th>Santa Cruz</th>\n",
       "      <td>385279</td>\n",
       "    </tr>\n",
       "  </tbody>\n",
       "</table>\n",
       "</div>"
      ],
      "text/plain": [
       "                   viajeros\n",
       "provincia_destino          \n",
       "Buenos Aires        1069949\n",
       "Río Negro            825770\n",
       "Córdoba              487968\n",
       "Mendoza              391625\n",
       "Santa Cruz           385279"
      ]
     },
     "execution_count": 240,
     "metadata": {},
     "output_type": "execute_result"
    }
   ],
   "source": [
    "viajes_origen_destino_mes[['provincia_destino','viajeros']].groupby('provincia_destino')\\\n",
    "                                                            .sum()\\\n",
    "                                                            .sort_values('viajeros',ascending=False)\\\n",
    "                                                            .head()"
   ]
  },
  {
   "cell_type": "markdown",
   "id": "5f4cdb35-c8af-4746-8483-75ba976147bc",
   "metadata": {},
   "source": [
    "# Conclusiones"
   ]
  },
  {
   "cell_type": "code",
   "execution_count": null,
   "id": "cf6feccd-15a8-4c83-92d3-7bdce957e0a1",
   "metadata": {},
   "outputs": [],
   "source": []
  },
  {
   "cell_type": "markdown",
   "id": "410cb474-7891-48a3-a167-000184022c9e",
   "metadata": {},
   "source": [
    "# Export Data y dashboard "
   ]
  },
  {
   "cell_type": "markdown",
   "id": "8de057db-9e6c-4cc5-8202-1395404104f1",
   "metadata": {},
   "source": [
    "### Crear dataframe fechas de ediciones de los previajes"
   ]
  },
  {
   "cell_type": "code",
   "execution_count": 282,
   "id": "b25356bb-917d-4fa0-9bfc-f1bdc12f66b0",
   "metadata": {},
   "outputs": [],
   "source": [
    "path=r'E:\\Ordenado\\DATA ANALISYS\\Data argentina\\previaje'"
   ]
  },
  {
   "cell_type": "code",
   "execution_count": 278,
   "id": "e0184cc8-4b16-4106-9f6d-d04755849c81",
   "metadata": {},
   "outputs": [],
   "source": [
    "data={'edicion':['previaje 1','previaje 2','previaje 3'],\n",
    "     'fecha_inicio_carga':['2020-10-8','2021-9-14','2022-9-6'],\n",
    "     'fecha_fin_carga':['2021-1-8','2022-1-3','2022-9-15'],\n",
    "     'fecha_inicio_viaje':['2021-1-1','2021-11-1','2022-10-10'],\n",
    "     'fecha_fin_viaje':['2021-12-31','2022-12-31','2022-12-5']}\n",
    "\n",
    "\n",
    "fechas_previaje=pd.DataFrame(data)"
   ]
  },
  {
   "cell_type": "code",
   "execution_count": 279,
   "id": "20803f0a-d396-4d83-a302-433d442d3933",
   "metadata": {},
   "outputs": [
    {
     "data": {
      "text/html": [
       "<div>\n",
       "<style scoped>\n",
       "    .dataframe tbody tr th:only-of-type {\n",
       "        vertical-align: middle;\n",
       "    }\n",
       "\n",
       "    .dataframe tbody tr th {\n",
       "        vertical-align: top;\n",
       "    }\n",
       "\n",
       "    .dataframe thead th {\n",
       "        text-align: right;\n",
       "    }\n",
       "</style>\n",
       "<table border=\"1\" class=\"dataframe\">\n",
       "  <thead>\n",
       "    <tr style=\"text-align: right;\">\n",
       "      <th></th>\n",
       "      <th>edicion</th>\n",
       "      <th>fecha_inicio_carga</th>\n",
       "      <th>fecha_fin_carga</th>\n",
       "      <th>fecha_inicio_viaje</th>\n",
       "      <th>fecha_fin_viaje</th>\n",
       "    </tr>\n",
       "  </thead>\n",
       "  <tbody>\n",
       "    <tr>\n",
       "      <th>0</th>\n",
       "      <td>previaje 1</td>\n",
       "      <td>2020-10-8</td>\n",
       "      <td>2021-1-8</td>\n",
       "      <td>2021-1-1</td>\n",
       "      <td>2021-12-31</td>\n",
       "    </tr>\n",
       "    <tr>\n",
       "      <th>1</th>\n",
       "      <td>previaje 2</td>\n",
       "      <td>2021-9-14</td>\n",
       "      <td>2022-1-3</td>\n",
       "      <td>2021-11-1</td>\n",
       "      <td>2022-12-31</td>\n",
       "    </tr>\n",
       "    <tr>\n",
       "      <th>2</th>\n",
       "      <td>previaje 3</td>\n",
       "      <td>2022-9-6</td>\n",
       "      <td>2022-9-15</td>\n",
       "      <td>2022-10-10</td>\n",
       "      <td>2022-12-5</td>\n",
       "    </tr>\n",
       "  </tbody>\n",
       "</table>\n",
       "</div>"
      ],
      "text/plain": [
       "      edicion fecha_inicio_carga fecha_fin_carga fecha_inicio_viaje  \\\n",
       "0  previaje 1          2020-10-8        2021-1-8           2021-1-1   \n",
       "1  previaje 2          2021-9-14        2022-1-3          2021-11-1   \n",
       "2  previaje 3           2022-9-6       2022-9-15         2022-10-10   \n",
       "\n",
       "  fecha_fin_viaje  \n",
       "0      2021-12-31  \n",
       "1      2022-12-31  \n",
       "2       2022-12-5  "
      ]
     },
     "execution_count": 279,
     "metadata": {},
     "output_type": "execute_result"
    }
   ],
   "source": [
    "fechas_previaje"
   ]
  },
  {
   "cell_type": "code",
   "execution_count": 280,
   "id": "d4d863fb-8aca-4ee7-92f9-ad0a26ed6778",
   "metadata": {
    "tags": []
   },
   "outputs": [
    {
     "data": {
      "text/html": [
       "<div>\n",
       "<style scoped>\n",
       "    .dataframe tbody tr th:only-of-type {\n",
       "        vertical-align: middle;\n",
       "    }\n",
       "\n",
       "    .dataframe tbody tr th {\n",
       "        vertical-align: top;\n",
       "    }\n",
       "\n",
       "    .dataframe thead th {\n",
       "        text-align: right;\n",
       "    }\n",
       "</style>\n",
       "<table border=\"1\" class=\"dataframe\">\n",
       "  <thead>\n",
       "    <tr style=\"text-align: right;\">\n",
       "      <th></th>\n",
       "      <th>edicion</th>\n",
       "      <th>fecha_inicio_carga</th>\n",
       "      <th>fecha_fin_carga</th>\n",
       "      <th>fecha_inicio_viaje</th>\n",
       "      <th>fecha_fin_viaje</th>\n",
       "    </tr>\n",
       "  </thead>\n",
       "  <tbody>\n",
       "    <tr>\n",
       "      <th>0</th>\n",
       "      <td>previaje 1</td>\n",
       "      <td>2020-10-08</td>\n",
       "      <td>2021-01-08</td>\n",
       "      <td>2021-01-01</td>\n",
       "      <td>2021-12-31</td>\n",
       "    </tr>\n",
       "    <tr>\n",
       "      <th>1</th>\n",
       "      <td>previaje 2</td>\n",
       "      <td>2021-09-14</td>\n",
       "      <td>2022-01-03</td>\n",
       "      <td>2021-11-01</td>\n",
       "      <td>2022-12-31</td>\n",
       "    </tr>\n",
       "    <tr>\n",
       "      <th>2</th>\n",
       "      <td>previaje 3</td>\n",
       "      <td>2022-09-06</td>\n",
       "      <td>2022-09-15</td>\n",
       "      <td>2022-10-10</td>\n",
       "      <td>2022-12-05</td>\n",
       "    </tr>\n",
       "  </tbody>\n",
       "</table>\n",
       "</div>"
      ],
      "text/plain": [
       "      edicion fecha_inicio_carga fecha_fin_carga fecha_inicio_viaje  \\\n",
       "0  previaje 1         2020-10-08      2021-01-08         2021-01-01   \n",
       "1  previaje 2         2021-09-14      2022-01-03         2021-11-01   \n",
       "2  previaje 3         2022-09-06      2022-09-15         2022-10-10   \n",
       "\n",
       "  fecha_fin_viaje  \n",
       "0      2021-12-31  \n",
       "1      2022-12-31  \n",
       "2      2022-12-05  "
      ]
     },
     "execution_count": 280,
     "metadata": {},
     "output_type": "execute_result"
    }
   ],
   "source": [
    "# change all columns to datetime format\n",
    "for col in fechas_previaje.columns[1:]:\n",
    "    fechas_previaje[col]=pd.to_datetime(fechas_previaje[col],format=\"%Y-%m-%d\")\n",
    "fechas_previaje"
   ]
  },
  {
   "cell_type": "code",
   "execution_count": 283,
   "id": "5571be99-b7de-41e2-883d-ec1ceb80ec07",
   "metadata": {},
   "outputs": [],
   "source": [
    "# To csv \n",
    "fechas_previaje.to_csv(path+'/fechas_previaje.csv',encoding='latin1')"
   ]
  },
  {
   "cell_type": "code",
   "execution_count": 289,
   "id": "34b59b09-3845-426b-b65f-0a85b5bf0d91",
   "metadata": {},
   "outputs": [],
   "source": [
    "data={'edicion':['previaje 1','previaje 1','previaje 2','previaje 2','previaje 3','previaje 3'],\n",
    "      'etapa':['carga','viaje','carga','viaje','carga','viaje'],\n",
    "      'fecha_inicio':['2020-10-8','2021-1-1','2021-9-14','2021-11-1','2022-9-6','2022-10-10'],\n",
    "      'fecha_fin':['2021-1-8','2021-12-31','2022-1-3','2022-12-31','2022-9-15','2022-12-5']}\n",
    "\n",
    "fechas_previaje=pd.DataFrame(data)"
   ]
  },
  {
   "cell_type": "code",
   "execution_count": 290,
   "id": "946a9fd8-b2b2-403e-9245-92864f960cea",
   "metadata": {},
   "outputs": [
    {
     "data": {
      "text/html": [
       "<div>\n",
       "<style scoped>\n",
       "    .dataframe tbody tr th:only-of-type {\n",
       "        vertical-align: middle;\n",
       "    }\n",
       "\n",
       "    .dataframe tbody tr th {\n",
       "        vertical-align: top;\n",
       "    }\n",
       "\n",
       "    .dataframe thead th {\n",
       "        text-align: right;\n",
       "    }\n",
       "</style>\n",
       "<table border=\"1\" class=\"dataframe\">\n",
       "  <thead>\n",
       "    <tr style=\"text-align: right;\">\n",
       "      <th></th>\n",
       "      <th>edicion</th>\n",
       "      <th>etapa</th>\n",
       "      <th>fecha_inicio</th>\n",
       "      <th>fecha_fin</th>\n",
       "    </tr>\n",
       "  </thead>\n",
       "  <tbody>\n",
       "    <tr>\n",
       "      <th>0</th>\n",
       "      <td>previaje 1</td>\n",
       "      <td>carga</td>\n",
       "      <td>2020-10-8</td>\n",
       "      <td>2021-1-8</td>\n",
       "    </tr>\n",
       "    <tr>\n",
       "      <th>1</th>\n",
       "      <td>previaje 1</td>\n",
       "      <td>viaje</td>\n",
       "      <td>2021-1-1</td>\n",
       "      <td>2021-12-31</td>\n",
       "    </tr>\n",
       "    <tr>\n",
       "      <th>2</th>\n",
       "      <td>previaje 2</td>\n",
       "      <td>carga</td>\n",
       "      <td>2021-9-14</td>\n",
       "      <td>2022-1-3</td>\n",
       "    </tr>\n",
       "    <tr>\n",
       "      <th>3</th>\n",
       "      <td>previaje 2</td>\n",
       "      <td>viaje</td>\n",
       "      <td>2021-11-1</td>\n",
       "      <td>2022-12-31</td>\n",
       "    </tr>\n",
       "    <tr>\n",
       "      <th>4</th>\n",
       "      <td>previaje 3</td>\n",
       "      <td>carga</td>\n",
       "      <td>2022-9-6</td>\n",
       "      <td>2022-9-15</td>\n",
       "    </tr>\n",
       "    <tr>\n",
       "      <th>5</th>\n",
       "      <td>previaje 3</td>\n",
       "      <td>viaje</td>\n",
       "      <td>2022-10-10</td>\n",
       "      <td>2022-12-5</td>\n",
       "    </tr>\n",
       "  </tbody>\n",
       "</table>\n",
       "</div>"
      ],
      "text/plain": [
       "      edicion  etapa fecha_inicio   fecha_fin\n",
       "0  previaje 1  carga    2020-10-8    2021-1-8\n",
       "1  previaje 1  viaje     2021-1-1  2021-12-31\n",
       "2  previaje 2  carga    2021-9-14    2022-1-3\n",
       "3  previaje 2  viaje    2021-11-1  2022-12-31\n",
       "4  previaje 3  carga     2022-9-6   2022-9-15\n",
       "5  previaje 3  viaje   2022-10-10   2022-12-5"
      ]
     },
     "execution_count": 290,
     "metadata": {},
     "output_type": "execute_result"
    }
   ],
   "source": [
    "fechas_previaje"
   ]
  },
  {
   "cell_type": "code",
   "execution_count": 291,
   "id": "a8e22a9f-413f-4bb6-8bf6-9d42b8f4fea7",
   "metadata": {
    "tags": []
   },
   "outputs": [
    {
     "data": {
      "text/html": [
       "<div>\n",
       "<style scoped>\n",
       "    .dataframe tbody tr th:only-of-type {\n",
       "        vertical-align: middle;\n",
       "    }\n",
       "\n",
       "    .dataframe tbody tr th {\n",
       "        vertical-align: top;\n",
       "    }\n",
       "\n",
       "    .dataframe thead th {\n",
       "        text-align: right;\n",
       "    }\n",
       "</style>\n",
       "<table border=\"1\" class=\"dataframe\">\n",
       "  <thead>\n",
       "    <tr style=\"text-align: right;\">\n",
       "      <th></th>\n",
       "      <th>edicion</th>\n",
       "      <th>etapa</th>\n",
       "      <th>fecha_inicio</th>\n",
       "      <th>fecha_fin</th>\n",
       "    </tr>\n",
       "  </thead>\n",
       "  <tbody>\n",
       "    <tr>\n",
       "      <th>0</th>\n",
       "      <td>previaje 1</td>\n",
       "      <td>carga</td>\n",
       "      <td>2020-10-08</td>\n",
       "      <td>2021-01-08</td>\n",
       "    </tr>\n",
       "    <tr>\n",
       "      <th>1</th>\n",
       "      <td>previaje 1</td>\n",
       "      <td>viaje</td>\n",
       "      <td>2021-01-01</td>\n",
       "      <td>2021-12-31</td>\n",
       "    </tr>\n",
       "    <tr>\n",
       "      <th>2</th>\n",
       "      <td>previaje 2</td>\n",
       "      <td>carga</td>\n",
       "      <td>2021-09-14</td>\n",
       "      <td>2022-01-03</td>\n",
       "    </tr>\n",
       "    <tr>\n",
       "      <th>3</th>\n",
       "      <td>previaje 2</td>\n",
       "      <td>viaje</td>\n",
       "      <td>2021-11-01</td>\n",
       "      <td>2022-12-31</td>\n",
       "    </tr>\n",
       "    <tr>\n",
       "      <th>4</th>\n",
       "      <td>previaje 3</td>\n",
       "      <td>carga</td>\n",
       "      <td>2022-09-06</td>\n",
       "      <td>2022-09-15</td>\n",
       "    </tr>\n",
       "    <tr>\n",
       "      <th>5</th>\n",
       "      <td>previaje 3</td>\n",
       "      <td>viaje</td>\n",
       "      <td>2022-10-10</td>\n",
       "      <td>2022-12-05</td>\n",
       "    </tr>\n",
       "  </tbody>\n",
       "</table>\n",
       "</div>"
      ],
      "text/plain": [
       "      edicion  etapa fecha_inicio  fecha_fin\n",
       "0  previaje 1  carga   2020-10-08 2021-01-08\n",
       "1  previaje 1  viaje   2021-01-01 2021-12-31\n",
       "2  previaje 2  carga   2021-09-14 2022-01-03\n",
       "3  previaje 2  viaje   2021-11-01 2022-12-31\n",
       "4  previaje 3  carga   2022-09-06 2022-09-15\n",
       "5  previaje 3  viaje   2022-10-10 2022-12-05"
      ]
     },
     "execution_count": 291,
     "metadata": {},
     "output_type": "execute_result"
    }
   ],
   "source": [
    "# change all columns to datetime format\n",
    "for col in fechas_previaje.columns[2:]:\n",
    "    fechas_previaje[col]=pd.to_datetime(fechas_previaje[col],format=\"%Y-%m-%d\")\n",
    "fechas_previaje"
   ]
  },
  {
   "cell_type": "code",
   "execution_count": 292,
   "id": "29936ff1-bb05-4250-8a48-df2e24d774dd",
   "metadata": {},
   "outputs": [],
   "source": [
    "# To csv \n",
    "fechas_previaje.to_csv(path+'/fechas_previaje.csv',encoding='latin1')"
   ]
  },
  {
   "cell_type": "code",
   "execution_count": null,
   "id": "637c7694-c2c9-406c-851b-e42f51d2abbe",
   "metadata": {},
   "outputs": [],
   "source": []
  }
 ],
 "metadata": {
  "kernelspec": {
   "display_name": "Python 3 (ipykernel)",
   "language": "python",
   "name": "python3"
  },
  "language_info": {
   "codemirror_mode": {
    "name": "ipython",
    "version": 3
   },
   "file_extension": ".py",
   "mimetype": "text/x-python",
   "name": "python",
   "nbconvert_exporter": "python",
   "pygments_lexer": "ipython3",
   "version": "3.9.13"
  }
 },
 "nbformat": 4,
 "nbformat_minor": 5
}
